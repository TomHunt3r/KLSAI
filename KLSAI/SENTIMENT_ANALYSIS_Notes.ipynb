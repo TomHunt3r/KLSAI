{
  "nbformat": 4,
  "nbformat_minor": 0,
  "metadata": {
    "colab": {
      "name": "SENTIMENT ANALYSIS - Notes.ipynb",
      "version": "0.3.2",
      "provenance": []
    },
    "kernelspec": {
      "name": "python3",
      "display_name": "Python 3"
    }
  },
  "cells": [
    {
      "metadata": {
        "id": "pEygTJdrDW1V",
        "colab_type": "text"
      },
      "cell_type": "markdown",
      "source": [
        "\n",
        "#KUALA LUMPUR SCHOOL OF ARTIFICIAL INTELLIGENCE, FEBRUARY 2019\n",
        "##SENTIMENT ANALYSIS BY PURNIMA WIJENDRA\n",
        "###NOTES"
      ]
    },
    {
      "metadata": {
        "id": "4_-J2xr2D8NI",
        "colab_type": "text"
      },
      "cell_type": "markdown",
      "source": [
        "Sentiment Analysis\n",
        "- Introduction \n",
        "- Scraping Social Media - Twitter\n",
        "- Cleaning data\n",
        "- Applying Sentiment Polarity\n",
        "- Visualisation \n",
        "- Word Cloud"
      ]
    },
    {
      "metadata": {
        "id": "7Yi00N9VEO7i",
        "colab_type": "text"
      },
      "cell_type": "markdown",
      "source": [
        "**Introduction**\n",
        "\n",
        "Scraping from Twitter\n",
        "Requires Tokens & Access Keys\n",
        "Library used : Tweepy\n",
        "An easy-to-use Python library for accessing the Twitter API.\n",
        "\n",
        "**Text Analytics **\n",
        "\n",
        "TextBlob is a Python (2 and 3) library for processing textual data. It provides a consistent API for diving into common natural language processing (NLP) tasks such as part-of-speech tagging, noun phrase extraction, sentiment analysis, and more.\n",
        "\n",
        "**Polarity **\n",
        "\n",
        "Sentiment analysis refers to identifying sentiment orientation (positive, neutral, and negative) in written or spoken language. Other types of sentiment analysis include fine-grained sentiment analysis which provides more precision in the level of polarity (e.g. very positive, positive, neutral, negative, and very negative) and emotion analysis which aims to identify emotions in expressions (e.g. happiness, sadness, frustration, surprise, etc\n",
        "\n",
        "**Subjectivity**\n",
        "\n",
        "Subjectivity is when text is an explanatory article which must be analysed in context\n",
        "\n",
        "**Use cases**  ??\n"
      ]
    },
    {
      "metadata": {
        "id": "7jIN7ZLGFUB0",
        "colab_type": "text"
      },
      "cell_type": "markdown",
      "source": [
        "To install Tweepy & TextBlob: "
      ]
    },
    {
      "metadata": {
        "id": "glYVcMMSFSnm",
        "colab_type": "code",
        "colab": {}
      },
      "cell_type": "code",
      "source": [
        "!pip install Tweepy"
      ],
      "execution_count": 0,
      "outputs": []
    },
    {
      "metadata": {
        "id": "166J-phSFbi6",
        "colab_type": "code",
        "outputId": "072e3cd3-06ff-4798-aff6-3146182e687a",
        "colab": {
          "base_uri": "https://localhost:8080/",
          "height": 70
        }
      },
      "cell_type": "code",
      "source": [
        "!pip install TextBlob"
      ],
      "execution_count": 0,
      "outputs": [
        {
          "output_type": "stream",
          "text": [
            "Requirement already satisfied: TextBlob in /usr/local/lib/python3.6/dist-packages (0.15.2)\n",
            "Requirement already satisfied: nltk>=3.1 in /usr/local/lib/python3.6/dist-packages (from TextBlob) (3.2.5)\n",
            "Requirement already satisfied: six in /usr/local/lib/python3.6/dist-packages (from nltk>=3.1->TextBlob) (1.11.0)\n"
          ],
          "name": "stdout"
        }
      ]
    },
    {
      "metadata": {
        "id": "qIDbP1IHEI6v",
        "colab_type": "code",
        "outputId": "b341fdae-769f-4fe6-d455-14395e4f51f0",
        "colab": {
          "base_uri": "https://localhost:8080/",
          "height": 34
        }
      },
      "cell_type": "code",
      "source": [
        "from textblob import TextBlob\n",
        "\n",
        "TextBlob(\"not a very great calculation\").sentiment\n"
      ],
      "execution_count": 0,
      "outputs": [
        {
          "output_type": "execute_result",
          "data": {
            "text/plain": [
              "Sentiment(polarity=-0.3076923076923077, subjectivity=0.5769230769230769)"
            ]
          },
          "metadata": {
            "tags": []
          },
          "execution_count": 3
        }
      ]
    },
    {
      "metadata": {
        "id": "fsoywCBUG9Jy",
        "colab_type": "code",
        "outputId": "1aa99c59-8d5d-4eb1-e6a7-4912e7ac0492",
        "colab": {
          "base_uri": "https://localhost:8080/",
          "height": 34
        }
      },
      "cell_type": "code",
      "source": [
        "TextBlob(\"I like sushi\").sentiment"
      ],
      "execution_count": 0,
      "outputs": [
        {
          "output_type": "execute_result",
          "data": {
            "text/plain": [
              "Sentiment(polarity=0.0, subjectivity=0.0)"
            ]
          },
          "metadata": {
            "tags": []
          },
          "execution_count": 7
        }
      ]
    },
    {
      "metadata": {
        "id": "WcGcgWjmDKGn",
        "colab_type": "code",
        "colab": {}
      },
      "cell_type": "code",
      "source": [
        ""
      ],
      "execution_count": 0,
      "outputs": []
    }
  ]
}